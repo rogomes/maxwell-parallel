{
 "cells": [
  {
   "cell_type": "code",
   "execution_count": 8,
   "metadata": {},
   "outputs": [
    {
     "name": "stdout",
     "output_type": "stream",
     "text": [
      "[CompletedProcess(args=('./a.out', 'eosCROSS_HYP_z0040_lw0.0205.dat', 'eos-vmit-B140a1.0.dat', 'maxwell-MBFwr20-z0040HYP-vmit-B140a1.0.dat'), returncode=0), CompletedProcess(args=('./a.out', 'eosCROSS_HYP_z0040_lw0.0205.dat', 'eos-vmit-B141a1.0.dat', 'maxwell-MBFwr20-z0040HYP-vmit-B141a1.0.dat'), returncode=0), CompletedProcess(args=('./a.out', 'eosCROSS_HYP_z0040_lw0.0205.dat', 'eos-vmit-B140a1.1.dat', 'maxwell-MBFwr20-z0040HYP-vmit-B140a1.1.dat'), returncode=0), CompletedProcess(args=('./a.out', 'eosCROSS_HYP_z0040_lw0.0205.dat', 'eos-vmit-B141a1.1.dat', 'maxwell-MBFwr20-z0040HYP-vmit-B141a1.1.dat'), returncode=0)]\n"
     ]
    }
   ],
   "source": [
    "# Code developed by Rosana Gomes  (June/2019)\n",
    "# the code executes a fortran script for different input files for quark and hadron matter\n",
    "# and write in different data files for equation of state with a maxwell construction \n",
    "\n",
    "\n",
    "# ROSANA - add command line for compiling code\n",
    "\n",
    "import numpy as np\n",
    "import subprocess\n",
    "from multiprocessing import Pool\n",
    "\n",
    "def f(x):\n",
    "    return subprocess.run(x, check=False)  # doesn't capture output\n",
    "\n",
    "# only run the code below when this file is executed\n",
    "# (not when it is imported)\n",
    "if __name__ == '__main__':\n",
    "    args = []\n",
    "    #for a_i in range(10, 41):\n",
    "\n",
    "    for a_i in range(10, 12):\n",
    "        \n",
    "        a = a_i / 10.0\n",
    "        #for B_i in range(140, 191):\n",
    "        for B_i in range(140, 142):\n",
    "            B = float(B_i)\n",
    "            \n",
    "            #MBF-wr, cte=0, lw = 0\n",
    "            #MBF-wr, cte=10  (9.97), lw = 0.01150\n",
    "            #MBF-wr, cte=20 (19.72), lw = 0.02050\n",
    "            #MBF-wr, cte=30 (30.22), lw = 0.02800\n",
    "            #MBF-wr, cte=40 (39.55), lw = 0.03400\n",
    "            #MBF-wr, cte=50 (49.38), lw = 0.04050\n",
    "\n",
    "            file_eosH = 'eosCROSS_HYP_z0040_lw0.0205.dat'\n",
    "            file_eosQ = 'eos-vmit-B{:d}a{:.1f}.dat'.format(B_i,a)\n",
    "            file_maxwell = 'maxwell-MBFwr20-z0040HYP-vmit-B{:d}a{:.1f}.dat'.format(B_i,a)\n",
    " #           print(file_maxwell)\n",
    "            args.append((\"./a.out\", str(file_eosH), str(file_eosQ), str(file_maxwell)))\n",
    "        \n",
    "    #print(args)\n",
    "                      \n",
    "    with Pool() as p:\n",
    "        print(p.map(f, args))\n",
    "                        \n",
    "# /home/gomes/FIAS/phase_transition/maxwell-parallel"
   ]
  },
  {
   "cell_type": "code",
   "execution_count": null,
   "metadata": {},
   "outputs": [],
   "source": []
  }
 ],
 "metadata": {
  "kernelspec": {
   "display_name": "Python 3",
   "language": "python",
   "name": "python3"
  },
  "language_info": {
   "codemirror_mode": {
    "name": "ipython",
    "version": 3
   },
   "file_extension": ".py",
   "mimetype": "text/x-python",
   "name": "python",
   "nbconvert_exporter": "python",
   "pygments_lexer": "ipython3",
   "version": "3.5.2"
  }
 },
 "nbformat": 4,
 "nbformat_minor": 2
}
